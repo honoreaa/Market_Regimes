{
 "cells": [
  {
   "cell_type": "code",
   "execution_count": 4,
   "id": "f75f03a7-3ff1-432c-bf2c-26a1758a3296",
   "metadata": {},
   "outputs": [],
   "source": [
    "import yfinance as yf\n",
    "import pandas as pd\n"
   ]
  },
  {
   "cell_type": "code",
   "execution_count": 5,
   "id": "80114361-261e-41cc-ab6d-1bb57792acdd",
   "metadata": {},
   "outputs": [
    {
     "name": "stderr",
     "output_type": "stream",
     "text": [
      "/var/folders/jb/pk23bkyn13b2jj0ptqjmbskr0000gn/T/ipykernel_17286/895288104.py:2: FutureWarning: YF.download() has changed argument auto_adjust default to True\n",
      "  df = yf.download(ticker, start=\"2010-01-01\", end=\"2025-06-26\")\n",
      "[*********************100%***********************]  1 of 1 completed\n"
     ]
    }
   ],
   "source": [
    "ticker = \"NQ=F\"\n",
    "df = yf.download(ticker, start=\"2010-01-01\", end=\"2025-06-26\")\n"
   ]
  },
  {
   "cell_type": "code",
   "execution_count": 6,
   "id": "71dd20de-fef0-4a01-b6d1-1900b2ad8df4",
   "metadata": {},
   "outputs": [],
   "source": [
    "df.to_csv(\"../data/es_futures.csv\")\n"
   ]
  },
  {
   "cell_type": "code",
   "execution_count": null,
   "id": "6e899564-9c5c-42e0-852c-db468f410867",
   "metadata": {},
   "outputs": [],
   "source": []
  }
 ],
 "metadata": {
  "kernelspec": {
   "display_name": "Python 3 (ipykernel)",
   "language": "python",
   "name": "python3"
  },
  "language_info": {
   "codemirror_mode": {
    "name": "ipython",
    "version": 3
   },
   "file_extension": ".py",
   "mimetype": "text/x-python",
   "name": "python",
   "nbconvert_exporter": "python",
   "pygments_lexer": "ipython3",
   "version": "3.10.5"
  }
 },
 "nbformat": 4,
 "nbformat_minor": 5
}
