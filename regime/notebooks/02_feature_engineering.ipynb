{
 "cells": [
  {
   "cell_type": "code",
   "execution_count": 13,
   "metadata": {},
   "outputs": [
    {
     "name": "stdout",
     "output_type": "stream",
     "text": [
      "              Close     High      Low     Open  Volume    return  volatility\n",
      "Date                                                                        \n",
      "2010-01-19  1889.75  1895.75  1857.50  1861.75  333010  0.014767    0.008569\n",
      "2010-01-20  1867.00  1892.25  1845.50  1889.25  403528 -0.012039    0.009410\n",
      "2010-01-21  1841.00  1883.50  1838.75  1867.75  501308 -0.013926    0.010263\n",
      "2010-01-22  1797.75  1849.25  1789.50  1841.25  527630 -0.023493    0.012277\n",
      "2010-01-25  1798.50  1811.75  1792.50  1794.75  340316  0.000417    0.011810\n"
     ]
    }
   ],
   "source": [
    "import pandas as pd\n",
    "from src.features import add_features\n",
    "\n",
    "df = pd.read_csv(\"../data/es_futures.csv\", index_col=0, parse_dates=True)\n",
    "df_features = add_features(df)\n",
    "print(df_features.head())\n",
    "\n",
    "#save\n",
    "df_features.to_csv(\"../data/es_futures_features.csv\")\n"
   ]
  },
  {
   "cell_type": "code",
   "execution_count": null,
   "metadata": {},
   "outputs": [],
   "source": []
  }
 ],
 "metadata": {
  "kernelspec": {
   "display_name": "Python 3 (ipykernel)",
   "language": "python",
   "name": "python3"
  },
  "language_info": {
   "codemirror_mode": {
    "name": "ipython",
    "version": 3
   },
   "file_extension": ".py",
   "mimetype": "text/x-python",
   "name": "python",
   "nbconvert_exporter": "python",
   "pygments_lexer": "ipython3",
   "version": "3.10.5"
  }
 },
 "nbformat": 4,
 "nbformat_minor": 4
}
